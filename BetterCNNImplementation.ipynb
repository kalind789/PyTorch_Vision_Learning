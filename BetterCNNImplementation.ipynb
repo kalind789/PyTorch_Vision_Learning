{
  "nbformat": 4,
  "nbformat_minor": 0,
  "metadata": {
    "colab": {
      "provenance": [],
      "gpuType": "T4",
      "authorship_tag": "ABX9TyPB5iRDOajWvuG/i0v3cAjM",
      "include_colab_link": true
    },
    "kernelspec": {
      "name": "python3",
      "display_name": "Python 3"
    },
    "language_info": {
      "name": "python"
    },
    "accelerator": "GPU"
  },
  "cells": [
    {
      "cell_type": "markdown",
      "metadata": {
        "id": "view-in-github",
        "colab_type": "text"
      },
      "source": [
        "<a href=\"https://colab.research.google.com/github/kalind789/PyTorch_Vision_Learning/blob/main/BetterCNNImplementation.ipynb\" target=\"_parent\"><img src=\"https://colab.research.google.com/assets/colab-badge.svg\" alt=\"Open In Colab\"/></a>"
      ]
    },
    {
      "cell_type": "code",
      "execution_count": 21,
      "metadata": {
        "id": "WYE3rtBF22Yk"
      },
      "outputs": [],
      "source": [
        "import torch\n",
        "import torch.nn as nn\n",
        "import torch.optim as optim\n",
        "import torch.nn.functional as F\n",
        "\n",
        "# For dataset\n",
        "from torch.utils.data import DataLoader\n",
        "import torchvision\n",
        "import torchvision.transforms as transforms"
      ]
    },
    {
      "cell_type": "code",
      "source": [
        "torch.manual_seed(42)"
      ],
      "metadata": {
        "colab": {
          "base_uri": "https://localhost:8080/"
        },
        "id": "q9N6SnDZ_fYn",
        "outputId": "a9224b4f-3d58-4b8b-e21c-852319ddf00d"
      },
      "execution_count": 22,
      "outputs": [
        {
          "output_type": "execute_result",
          "data": {
            "text/plain": [
              "<torch._C.Generator at 0x79f0640b8c30>"
            ]
          },
          "metadata": {},
          "execution_count": 22
        }
      ]
    },
    {
      "cell_type": "code",
      "source": [
        "torch.cuda.is_available()"
      ],
      "metadata": {
        "colab": {
          "base_uri": "https://localhost:8080/"
        },
        "id": "H1_ydyjJ5JTy",
        "outputId": "daf8fedb-6954-44a2-8c51-d8c49057d4e7"
      },
      "execution_count": 23,
      "outputs": [
        {
          "output_type": "execute_result",
          "data": {
            "text/plain": [
              "True"
            ]
          },
          "metadata": {},
          "execution_count": 23
        }
      ]
    },
    {
      "cell_type": "code",
      "source": [
        "device = torch.device('cuda:0' if torch.cuda.is_available() else 'cpu')"
      ],
      "metadata": {
        "id": "VfhzJ5cT8I9S"
      },
      "execution_count": 24,
      "outputs": []
    },
    {
      "cell_type": "code",
      "source": [
        "transform = transforms.ToTensor()\n",
        "train_data = torchvision.datasets.CIFAR10(root='./data', train=True, transform=transform, download=True)\n",
        "test_data = torchvision.datasets.CIFAR10(root='./data', train=False, transform=transform, download=True)"
      ],
      "metadata": {
        "id": "UVy-kwNJ5LMa"
      },
      "execution_count": 25,
      "outputs": []
    },
    {
      "cell_type": "code",
      "source": [
        "batch_size = 8\n",
        "\n",
        "trainloader = DataLoader(train_data, batch_size=batch_size, shuffle=True, num_workers=2)\n",
        "testloader = DataLoader(test_data, batch_size=batch_size, shuffle=True, num_workers=2)"
      ],
      "metadata": {
        "id": "zQnq956P5uHf"
      },
      "execution_count": 26,
      "outputs": []
    },
    {
      "cell_type": "code",
      "source": [
        "train_iter = iter(trainloader)\n",
        "images, labels = next(train_iter)\n",
        "images.shape, images.dtype, labels.shape"
      ],
      "metadata": {
        "colab": {
          "base_uri": "https://localhost:8080/"
        },
        "id": "dl1DnLR960ON",
        "outputId": "a8f93d62-2c8a-49f9-ea86-c2ce50e6244f"
      },
      "execution_count": 27,
      "outputs": [
        {
          "output_type": "execute_result",
          "data": {
            "text/plain": [
              "(torch.Size([8, 3, 32, 32]), torch.float32, torch.Size([8]))"
            ]
          },
          "metadata": {},
          "execution_count": 27
        }
      ]
    },
    {
      "cell_type": "code",
      "source": [
        "class MyNet(nn.Module):\n",
        "  def __init__(self):\n",
        "    super().__init__()\n",
        "\n",
        "    self.pool = nn.MaxPool2d(2, 2)\n",
        "\n",
        "    self.conv1 = nn.Conv2d(in_channels=3, out_channels=128, kernel_size=3)\n",
        "    self.conv2 = nn.Conv2d(in_channels=128, out_channels=256, kernel_size=3)\n",
        "    self.conv3 = nn.Conv2d(in_channels=256, out_channels=512, kernel_size=3)\n",
        "\n",
        "    self.fc1 = nn.Linear(512*2*2, 1024)\n",
        "    self.drop = nn.Dropout(p=0.3)\n",
        "    self.fc2 = nn.Linear(1024, 1024)\n",
        "    self.fc3 = nn.Linear(1024, 10)\n",
        "\n",
        "  def forward(self, x):\n",
        "    x = self.pool(F.relu(self.conv1(x)))\n",
        "    x = self.pool(F.relu(self.conv2(x)))\n",
        "    x = self.pool(F.relu(self.conv3(x)))\n",
        "\n",
        "    x = torch.flatten(x, 1)\n",
        "\n",
        "    x = F.relu(self.fc1(x))\n",
        "    x = self.drop(x)\n",
        "    x = F.relu(self.fc2(x))\n",
        "    x = self.drop(x)\n",
        "    x = self.fc3(x)\n",
        "\n",
        "    return x"
      ],
      "metadata": {
        "id": "ZeEqbewd7OEA"
      },
      "execution_count": 28,
      "outputs": []
    },
    {
      "cell_type": "code",
      "source": [
        "net = MyNet().to(device)"
      ],
      "metadata": {
        "id": "2BNMgo_X8Dz2"
      },
      "execution_count": 29,
      "outputs": []
    },
    {
      "cell_type": "code",
      "source": [
        "optimizer = optim.Adam(net.parameters(), lr = 0.0001)\n",
        "criterion = nn.CrossEntropyLoss()"
      ],
      "metadata": {
        "id": "30X_FriY-K2s"
      },
      "execution_count": 32,
      "outputs": []
    },
    {
      "cell_type": "code",
      "source": [
        "for epoch in range(5):\n",
        "  print(f\"Epoch: {epoch+1}\")\n",
        "  running_loss = 0.0\n",
        "  running_correct = 0\n",
        "  running_total = 0\n",
        "  for idx, data in enumerate(trainloader, 0):\n",
        "    images, labels = data[0].to(device), data[1].to(device)\n",
        "\n",
        "    optimizer.zero_grad()\n",
        "    outputs = net(images)\n",
        "    loss = criterion(outputs, labels)\n",
        "    loss.backward()\n",
        "    optimizer.step()\n",
        "\n",
        "    running_loss += loss.item()\n",
        "    _, predicted = torch.max(outputs.data, 1)\n",
        "    running_total += labels.size(0)\n",
        "    running_correct += (predicted == labels).sum().item()\n",
        "\n",
        "    if idx % 1000 == 999:\n",
        "      print(f'[{epoch + 1}, {idx + 1:5d}] loss: {running_loss / 1000:.3f}')\n",
        "      avg_acc_across_batches = 100 * running_correct / running_total\n",
        "      print(f'Average accuracy across batches: {avg_acc_across_batches:.2f} %')\n",
        "      running_loss = 0.0\n",
        "      running_correct = 0\n",
        "      running_total = 0\n",
        "\n",
        "  print(f\"-------------------------------\")"
      ],
      "metadata": {
        "colab": {
          "base_uri": "https://localhost:8080/"
        },
        "id": "nxLpY5Ku8dZ4",
        "outputId": "1f28b34e-ad7e-4713-d719-6ecfff460b49"
      },
      "execution_count": 33,
      "outputs": [
        {
          "output_type": "stream",
          "name": "stdout",
          "text": [
            "Epoch: 1\n",
            "[1,  1000] loss: 1.223\n",
            "Average accuracy across batches: 55.54 %\n",
            "[1,  2000] loss: 1.177\n",
            "Average accuracy across batches: 57.55 %\n",
            "[1,  3000] loss: 1.169\n",
            "Average accuracy across batches: 58.41 %\n",
            "[1,  4000] loss: 1.151\n",
            "Average accuracy across batches: 58.99 %\n",
            "[1,  5000] loss: 1.142\n",
            "Average accuracy across batches: 59.17 %\n",
            "[1,  6000] loss: 1.108\n",
            "Average accuracy across batches: 60.21 %\n",
            "-------------------------------\n",
            "Epoch: 2\n",
            "[2,  1000] loss: 1.071\n",
            "Average accuracy across batches: 61.66 %\n",
            "[2,  2000] loss: 1.085\n",
            "Average accuracy across batches: 61.21 %\n",
            "[2,  3000] loss: 1.054\n",
            "Average accuracy across batches: 62.48 %\n",
            "[2,  4000] loss: 1.058\n",
            "Average accuracy across batches: 62.79 %\n",
            "[2,  5000] loss: 1.047\n",
            "Average accuracy across batches: 63.31 %\n",
            "[2,  6000] loss: 1.037\n",
            "Average accuracy across batches: 63.16 %\n",
            "-------------------------------\n",
            "Epoch: 3\n",
            "[3,  1000] loss: 1.008\n",
            "Average accuracy across batches: 64.09 %\n",
            "[3,  2000] loss: 0.989\n",
            "Average accuracy across batches: 64.97 %\n",
            "[3,  3000] loss: 0.986\n",
            "Average accuracy across batches: 64.88 %\n",
            "[3,  4000] loss: 0.979\n",
            "Average accuracy across batches: 65.56 %\n",
            "[3,  5000] loss: 0.980\n",
            "Average accuracy across batches: 64.74 %\n",
            "[3,  6000] loss: 0.974\n",
            "Average accuracy across batches: 65.71 %\n",
            "-------------------------------\n",
            "Epoch: 4\n",
            "[4,  1000] loss: 0.926\n",
            "Average accuracy across batches: 67.66 %\n",
            "[4,  2000] loss: 0.913\n",
            "Average accuracy across batches: 67.62 %\n",
            "[4,  3000] loss: 0.934\n",
            "Average accuracy across batches: 67.12 %\n",
            "[4,  4000] loss: 0.901\n",
            "Average accuracy across batches: 67.95 %\n",
            "[4,  5000] loss: 0.909\n",
            "Average accuracy across batches: 68.29 %\n",
            "[4,  6000] loss: 0.913\n",
            "Average accuracy across batches: 67.92 %\n",
            "-------------------------------\n",
            "Epoch: 5\n",
            "[5,  1000] loss: 0.855\n",
            "Average accuracy across batches: 69.67 %\n",
            "[5,  2000] loss: 0.843\n",
            "Average accuracy across batches: 70.14 %\n",
            "[5,  3000] loss: 0.850\n",
            "Average accuracy across batches: 70.11 %\n",
            "[5,  4000] loss: 0.847\n",
            "Average accuracy across batches: 70.26 %\n",
            "[5,  5000] loss: 0.858\n",
            "Average accuracy across batches: 69.67 %\n",
            "[5,  6000] loss: 0.840\n",
            "Average accuracy across batches: 70.99 %\n",
            "-------------------------------\n"
          ]
        }
      ]
    },
    {
      "cell_type": "code",
      "source": [
        "total = 0.0\n",
        "correct = 0.0\n",
        "with torch.no_grad():\n",
        "  for data in testloader:\n",
        "      images, labels = data[0].to(device), data[1].to(device)\n",
        "      # calculate outputs by running images through the network\n",
        "      outputs = net(images)\n",
        "      # the class with the highest energy is what we choose as prediction\n",
        "      _, predicted = torch.max(outputs, 1)\n",
        "      total += labels.size(0)\n",
        "      correct += (predicted == labels).sum().item()\n",
        "\n",
        "print(f'Accuracy of the network on the 10000 test images: {100 * correct // total} %')"
      ],
      "metadata": {
        "colab": {
          "base_uri": "https://localhost:8080/"
        },
        "id": "b4K8ileO_KmJ",
        "outputId": "61cc50d4-c032-421a-8595-08fb51a8d28d"
      },
      "execution_count": 34,
      "outputs": [
        {
          "output_type": "stream",
          "name": "stdout",
          "text": [
            "Accuracy of the network on the 10000 test images: 65.0 %\n"
          ]
        }
      ]
    },
    {
      "cell_type": "code",
      "source": [],
      "metadata": {
        "id": "6dUhIQpJCei6"
      },
      "execution_count": null,
      "outputs": []
    }
  ]
}