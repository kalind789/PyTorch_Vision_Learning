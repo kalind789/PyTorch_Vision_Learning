{
  "nbformat": 4,
  "nbformat_minor": 0,
  "metadata": {
    "colab": {
      "provenance": [],
      "gpuType": "T4",
      "authorship_tag": "ABX9TyOh3L1Xj0qnX7QB6V/zGErV",
      "include_colab_link": true
    },
    "kernelspec": {
      "name": "python3",
      "display_name": "Python 3"
    },
    "language_info": {
      "name": "python"
    },
    "accelerator": "GPU"
  },
  "cells": [
    {
      "cell_type": "markdown",
      "metadata": {
        "id": "view-in-github",
        "colab_type": "text"
      },
      "source": [
        "<a href=\"https://colab.research.google.com/github/kalind789/PyTorch_Vision_Learning/blob/main/OptimizedCNNImplementation.ipynb\" target=\"_parent\"><img src=\"https://colab.research.google.com/assets/colab-badge.svg\" alt=\"Open In Colab\"/></a>"
      ]
    },
    {
      "cell_type": "code",
      "execution_count": null,
      "metadata": {
        "id": "ENfxZMw-ISXq"
      },
      "outputs": [],
      "source": [
        "import torch\n",
        "import torch.nn as nn\n",
        "import torch.nn.functional as F\n",
        "import torch.optim as optim\n",
        "import torch.utils.data.dataloader as DataLoader"
      ]
    },
    {
      "cell_type": "code",
      "source": [
        "import torchvision\n",
        "import torchvision.transforms as transforms"
      ],
      "metadata": {
        "id": "Udulf7e1JIpj"
      },
      "execution_count": null,
      "outputs": []
    },
    {
      "cell_type": "code",
      "source": [
        "transform = transforms.Compose(\n",
        "    [transforms.ToTensor(),\n",
        "     transforms.Normalize((0.5, 0.5, 0.5), (0.5, 0.5, 0.5))])\n",
        "\n",
        "batch_size = 8\n",
        "\n",
        "trainset = torchvision.datasets.CIFAR10(root='./data', train=True,\n",
        "                                        download=True, transform=transform)\n",
        "TRAINLOADER = torch.utils.data.DataLoader(trainset, batch_size=batch_size,\n",
        "                                          shuffle=True, num_workers=2)\n",
        "\n",
        "testset = torchvision.datasets.CIFAR10(root='./data', train=False,\n",
        "                                       download=True, transform=transform)\n",
        "TESTLOADER = torch.utils.data.DataLoader(testset, batch_size=batch_size,\n",
        "                                         shuffle=False, num_workers=2)\n",
        "\n",
        "classes = ('plane', 'car', 'bird', 'cat',\n",
        "           'deer', 'dog', 'frog', 'horse', 'ship', 'truck')"
      ],
      "metadata": {
        "id": "A0rZw-YPJPAw"
      },
      "execution_count": null,
      "outputs": []
    },
    {
      "cell_type": "code",
      "source": [
        "device = torch.device('cuda:0' if torch.cuda.is_available() else 'cpu')\n",
        "SEED = 42\n",
        "torch.manual_seed(SEED)\n",
        "torch.cuda.manual_seed_all(SEED)\n",
        "print(device)"
      ],
      "metadata": {
        "colab": {
          "base_uri": "https://localhost:8080/"
        },
        "id": "hHvKjvCgO4ge",
        "outputId": "603fd93f-f725-415f-9192-ff7f87477c8d"
      },
      "execution_count": null,
      "outputs": [
        {
          "output_type": "stream",
          "name": "stdout",
          "text": [
            "cuda:0\n"
          ]
        }
      ]
    },
    {
      "cell_type": "code",
      "source": [
        "class MyNet(nn.Module):\n",
        "    def __init__(self):\n",
        "        super().__init__()\n",
        "\n",
        "        self.pool = nn.MaxPool2d(2, 2)\n",
        "\n",
        "        # First thing I want to try is scaling the network up to 3 convolution layers\n",
        "        self.conv1 = nn.Conv2d(in_channels=3, out_channels=6, kernel_size=5, padding=1)\n",
        "        self.conv2 = nn.Conv2d(in_channels=6, out_channels=16, kernel_size=5, padding=1)\n",
        "        self.conv3 = nn.Conv2d(in_channels=16, out_channels=32, kernel_size=5, padding=1)\n",
        "\n",
        "        # To do so, I also need to recalculate the dimensions for the flat layer\n",
        "        self.fc1 = nn.Linear(32 * 4 * 4, 120)\n",
        "        self.fc2 = nn.Linear(120, 84)\n",
        "        self.fc3 = nn.Linear(84, 10)\n",
        "\n",
        "    def forward(self, x):\n",
        "        x = self.pool(F.relu(self.conv1(x)))\n",
        "        x = self.pool(F.relu(self.conv2(x)))\n",
        "        x = F.relu(self.conv3(x))\n",
        "        x = torch.flatten(x, 1) # flatten all dimensions except batch\n",
        "        x = F.relu(self.fc1(x))\n",
        "        x = F.relu(self.fc2(x))\n",
        "        x = self.fc3(x)\n",
        "        return x\n",
        "\n",
        "tut_net = MyNet().to(device)"
      ],
      "metadata": {
        "id": "jxPDzj-CPDxi"
      },
      "execution_count": null,
      "outputs": []
    },
    {
      "cell_type": "markdown",
      "source": [
        "### Math\n",
        "\n",
        "What I needed to do for this was:\n",
        "\n",
        "Conv Layer Output Dim: $H_{\\text{out}} = \\lfloor \\frac{ H_{\\text{in}} - K + 2P}{S} \\rfloor + 1$, where $K = \\text{Kernel Size}$, $P = \\text{Padding}$, and $S = \\text{Stride}$ (default 1).\n",
        "\n",
        "Assuming a $32 \\times 32$ input, your $K=3$, $P=1$, and $S=1$ results in:\n",
        "\n",
        "$$\\text{Conv Output} = \\lfloor \\frac{32 - 3 + 2(1)}{1} \\rfloor + 1 = \\mathbf{32}$$\n",
        "\n",
        "Then, we get a new dim from the pooling: $H_{\\text{out}} = \\lfloor \\frac{ H_{\\text{in}} - K}{S} \\rfloor + 1$ for pooling, assuming a standard MaxPool, $\\text{Kernel} (K) = 2$ and $\\text{Stride} (S) = 2$.\n",
        "\n",
        "For us this is:\n",
        "\n",
        "$$\\text{Pool Output} = \\lfloor \\frac{32 - 2}{2} \\rfloor + 1 = \\mathbf{16}$$\n",
        "\n",
        "This means that after the first block ($\\text{conv1} \\to \\text{pool}$), the image size is $16 \\times 16$.\n",
        "\n",
        "If we assume the same sequence of (Conv $\\to$ Pool) for the second block, and only Conv for the third:\n",
        "\n",
        "1.  **After $\\text{conv2} \\to \\text{pool}$:** $16 \\to \\mathbf{8}$\n",
        "2.  **After $\\text{conv3}$ (No Pool):** $8 \\to \\mathbf{8}$\n",
        "\n",
        "SO what's the flatten layer?\n",
        "\n",
        "$$\\text{Final Flatten Input} = \\text{Final Channels} \\times \\text{Final Height} \\times \\text{Final Width}$$\n",
        "\n",
        "$$\\text{Flatten Input} = 32 \\times 8 \\times 8 = \\mathbf{2048}$$"
      ],
      "metadata": {
        "id": "X9LKjk8gTadw"
      }
    },
    {
      "cell_type": "code",
      "source": [
        "data_dict = {\n",
        "    'loss': [],\n",
        "    'iteration': []\n",
        "}\n",
        "\n",
        "def train_model(model, criterion, optimizer, trainloader, num_epochs=5):\n",
        "  global_step = 0\n",
        "  for epoch in range(num_epochs):  # loop over the dataset multiple times\n",
        "    running_loss = 0.0\n",
        "    for i, data in enumerate(trainloader, 0):\n",
        "      # get the inputs; data is a list of [inputs, labels]\n",
        "      inputs, labels = data[0].to(device), data[1].to(device)\n",
        "\n",
        "      # zero the parameter gradients\n",
        "      optimizer.zero_grad()\n",
        "\n",
        "      # forward + backward + optimize\n",
        "      outputs = model(inputs)\n",
        "      loss = criterion(outputs, labels)\n",
        "      loss.backward()\n",
        "      optimizer.step()\n",
        "\n",
        "      # print statistics\n",
        "      running_loss += loss.item()\n",
        "      if i % 200 == 199:    # print every 200 mini-batches\n",
        "          print(f'[{epoch + 1}, {i + 1:5d}] loss: {running_loss / 200:.3f}')\n",
        "          data_dict['loss'].append(running_loss/200)\n",
        "          data_dict['iteration'].append(global_step)\n",
        "          running_loss = 0.0\n",
        "\n",
        "      global_step += 1\n",
        "\n",
        "  print('Finished Training')"
      ],
      "metadata": {
        "id": "tIywKjHTSP2w"
      },
      "execution_count": null,
      "outputs": []
    },
    {
      "cell_type": "code",
      "source": [
        "criterion = nn.CrossEntropyLoss()\n",
        "optimizer = optim.Adam(tut_net.parameters(), lr=0.001)"
      ],
      "metadata": {
        "id": "oF9Nns-bSVTJ"
      },
      "execution_count": null,
      "outputs": []
    },
    {
      "cell_type": "code",
      "source": [
        "train_model(model=tut_net, criterion=criterion, optimizer=optimizer, trainloader=TRAINLOADER, num_epochs=2)"
      ],
      "metadata": {
        "colab": {
          "base_uri": "https://localhost:8080/"
        },
        "id": "Jrnze2quSRwh",
        "outputId": "15242bf1-6987-49c7-8947-e9cca6c790f2"
      },
      "execution_count": null,
      "outputs": [
        {
          "output_type": "stream",
          "name": "stdout",
          "text": [
            "[1,   200] loss: 2.195\n",
            "[1,   400] loss: 2.035\n",
            "[1,   600] loss: 1.951\n",
            "[1,   800] loss: 1.869\n",
            "[1,  1000] loss: 1.794\n",
            "[1,  1200] loss: 1.732\n",
            "[1,  1400] loss: 1.677\n",
            "[1,  1600] loss: 1.652\n",
            "[1,  1800] loss: 1.656\n",
            "[1,  2000] loss: 1.590\n",
            "[1,  2200] loss: 1.563\n",
            "[1,  2400] loss: 1.605\n",
            "[1,  2600] loss: 1.526\n",
            "[1,  2800] loss: 1.517\n",
            "[1,  3000] loss: 1.519\n",
            "[1,  3200] loss: 1.550\n",
            "[1,  3400] loss: 1.493\n",
            "[1,  3600] loss: 1.527\n",
            "[1,  3800] loss: 1.481\n",
            "[1,  4000] loss: 1.451\n",
            "[1,  4200] loss: 1.451\n",
            "[1,  4400] loss: 1.483\n",
            "[1,  4600] loss: 1.476\n",
            "[1,  4800] loss: 1.459\n",
            "[1,  5000] loss: 1.426\n",
            "[1,  5200] loss: 1.444\n",
            "[1,  5400] loss: 1.431\n",
            "[1,  5600] loss: 1.454\n",
            "[1,  5800] loss: 1.382\n",
            "[1,  6000] loss: 1.381\n",
            "[1,  6200] loss: 1.419\n",
            "[2,   200] loss: 1.357\n",
            "[2,   400] loss: 1.372\n",
            "[2,   600] loss: 1.350\n",
            "[2,   800] loss: 1.320\n",
            "[2,  1000] loss: 1.350\n",
            "[2,  1200] loss: 1.330\n",
            "[2,  1400] loss: 1.376\n",
            "[2,  1600] loss: 1.297\n",
            "[2,  1800] loss: 1.325\n",
            "[2,  2000] loss: 1.273\n",
            "[2,  2200] loss: 1.335\n",
            "[2,  2400] loss: 1.300\n",
            "[2,  2600] loss: 1.329\n",
            "[2,  2800] loss: 1.265\n",
            "[2,  3000] loss: 1.336\n",
            "[2,  3200] loss: 1.254\n",
            "[2,  3400] loss: 1.257\n",
            "[2,  3600] loss: 1.298\n",
            "[2,  3800] loss: 1.278\n",
            "[2,  4000] loss: 1.258\n",
            "[2,  4200] loss: 1.277\n",
            "[2,  4400] loss: 1.238\n",
            "[2,  4600] loss: 1.295\n",
            "[2,  4800] loss: 1.271\n",
            "[2,  5000] loss: 1.277\n",
            "[2,  5200] loss: 1.305\n",
            "[2,  5400] loss: 1.228\n",
            "[2,  5600] loss: 1.270\n",
            "[2,  5800] loss: 1.264\n",
            "[2,  6000] loss: 1.241\n",
            "[2,  6200] loss: 1.242\n",
            "Finished Training\n"
          ]
        }
      ]
    },
    {
      "cell_type": "code",
      "source": [
        "def test_model(model, criterion, testloader, num_epochs=2):\n",
        "  correct = 0\n",
        "  total = 0\n",
        "  # since we're not training, we don't need to calculate the gradients for our outputs\n",
        "  model.eval()\n",
        "  with torch.no_grad():\n",
        "      for data in testloader:\n",
        "          images, labels = data[0].to(device), data[1].to(device)\n",
        "          # calculate outputs by running images through the network\n",
        "          outputs = model(images)\n",
        "          # the class with the highest energy is what we choose as prediction\n",
        "          _, predicted = torch.max(outputs, 1)\n",
        "          total += labels.size(0)\n",
        "          correct += (predicted == labels).sum().item()\n",
        "\n",
        "  print(f'Accuracy of the network on the 10000 test images: {100 * correct // total} %')"
      ],
      "metadata": {
        "id": "OEOF4P_ISbSx"
      },
      "execution_count": null,
      "outputs": []
    },
    {
      "cell_type": "code",
      "source": [
        "test_model(tut_net, criterion=criterion, testloader=TESTLOADER)"
      ],
      "metadata": {
        "colab": {
          "base_uri": "https://localhost:8080/"
        },
        "id": "xevZ70qUWPOi",
        "outputId": "2fedc676-e0e3-4dae-df71-202e52c031c0"
      },
      "execution_count": null,
      "outputs": [
        {
          "output_type": "stream",
          "name": "stdout",
          "text": [
            "Accuracy of the network on the 10000 test images: 55 %\n"
          ]
        }
      ]
    },
    {
      "cell_type": "code",
      "source": [
        "import pandas as pd\n",
        "df = pd.DataFrame(data_dict)"
      ],
      "metadata": {
        "id": "p4ZmGFRIWPur"
      },
      "execution_count": null,
      "outputs": []
    },
    {
      "cell_type": "code",
      "source": [
        "import matplotlib.pyplot as plt\n",
        "plt.plot(df['iteration'], df['loss'])\n",
        "plt.show()"
      ],
      "metadata": {
        "colab": {
          "base_uri": "https://localhost:8080/",
          "height": 54
        },
        "id": "ei0x5ccIWcIV",
        "outputId": "02221214-d74d-4c56-ed17-74c1a7cc6521"
      },
      "execution_count": null,
      "outputs": [
        {
          "output_type": "display_data",
          "data": {
            "text/plain": [
              "<Figure size 640x480 with 1 Axes>"
            ],
            "image/png": "[encoded data removed]"
          },
          "metadata": {}
        }
      ]
    },
    {
      "cell_type": "code",
      "source": [],
      "metadata": {
        "id": "TpYJ5YgeWdOm"
      },
      "execution_count": null,
      "outputs": []
    }
  ]
}